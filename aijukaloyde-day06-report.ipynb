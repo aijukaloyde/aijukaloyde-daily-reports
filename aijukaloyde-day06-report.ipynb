{
 "cells": [
  {
   "cell_type": "markdown",
   "id": "80159afe-402c-49e9-add6-d6f6355f28b0",
   "metadata": {},
   "source": [
    "## Flow control"
   ]
  },
  {
   "cell_type": "code",
   "execution_count": 1,
   "id": "3a2e91de-21f3-4270-a2ba-5f4842a2d721",
   "metadata": {},
   "outputs": [
    {
     "name": "stdout",
     "output_type": "stream",
     "text": [
      "27\n"
     ]
    }
   ],
   "source": [
    "# if clause\n",
    "a =27\n",
    "print(a)"
   ]
  },
  {
   "cell_type": "markdown",
   "id": "60068151-9de4-447d-85ff-0960b2dc32c8",
   "metadata": {},
   "source": [
    "## if...else"
   ]
  },
  {
   "cell_type": "markdown",
   "id": "6823e3f2-f514-4a21-8213-10ab9e47113a",
   "metadata": {},
   "source": [
    "```python\n",
    "if ....:\n",
    "    instruction1...\n",
    "```"
   ]
  },
  {
   "cell_type": "code",
   "execution_count": 10,
   "id": "78ac4584-729a-45c6-abba-27e406f791f6",
   "metadata": {},
   "outputs": [
    {
     "name": "stdout",
     "output_type": "stream",
     "text": [
      "we do not have it\n"
     ]
    }
   ],
   "source": [
    "a = 27\n",
    "if(a>29):\n",
    "    print(\"we have it\")\n",
    "else:\n",
    "    print(\"we do not have it\")"
   ]
  },
  {
   "cell_type": "markdown",
   "id": "d8aac63b-5be7-416d-9ba0-876d04990bb0",
   "metadata": {},
   "source": [
    "## if...elif...else"
   ]
  },
  {
   "cell_type": "code",
   "execution_count": 12,
   "id": "fc4a3ebc-cac5-4b0f-a236-2760d150f56b",
   "metadata": {},
   "outputs": [
    {
     "name": "stdout",
     "output_type": "stream",
     "text": [
      "x is zero\n"
     ]
    }
   ],
   "source": [
    "x = 0\n",
    "if x > 0:\n",
    "    print(\"x is positive\")\n",
    "elif x<0:\n",
    "    print(\"x is negative\")\n",
    "else:\n",
    "    print(\"x is zero\")"
   ]
  },
  {
   "cell_type": "markdown",
   "id": "028ccf41-3a8c-430f-956b-c56e84de3ad9",
   "metadata": {},
   "source": [
    "### Nested clauses"
   ]
  },
  {
   "cell_type": "code",
   "execution_count": null,
   "id": "0f469237-1f06-40a1-8728-4676cb29be4c",
   "metadata": {},
   "outputs": [],
   "source": [
    "```python\n",
    "if....:\n",
    "    instruction.....\n",
    "       if...\n"
   ]
  },
  {
   "cell_type": "code",
   "execution_count": 20,
   "id": "1163e81a-7014-403d-9a43-8900261dd540",
   "metadata": {},
   "outputs": [
    {
     "name": "stdout",
     "output_type": "stream",
     "text": [
      "a is greater than b\n",
      "the diff is...\n"
     ]
    }
   ],
   "source": [
    "a = 15\n",
    "b =10\n",
    "\n",
    "if a > b:\n",
    "     print(\"a is greater than b\")\n",
    "     if (a-b>5):\n",
    "         print(\"the diff is...\")\n",
    "     else:\n",
    "         print(\"the diff is...\")\n",
    "else:\n",
    "     print(\"b is greater than a\")\n",
    "\n",
    "     \n",
    "    "
   ]
  },
  {
   "cell_type": "code",
   "execution_count": 38,
   "id": "396a4fd4-06c7-4dd2-82e1-e61b86fcb314",
   "metadata": {
    "scrolled": true
   },
   "outputs": [],
   "source": [
    "#a = input(\"Enter the value of a: \")\n",
    "#b = input(\"Enter the value of b: \")\n",
    "#c = input(\"Enter the value of c: \")\n",
    "\n",
    "#d = b^2-4*a*c\n",
    "#if d >0:\n",
    "    #print(\"the roots are distinct\")\n",
    "#elif d < 0:\n",
    "    #print(\"the roots are....\")\n",
    "#else:\n",
    "    #print(\"the roots are....\")\n",
    "#x1 = [-b + sqrt(d)]/2*a\n",
    "#x2 = [-b - sqrt(d)]/2*a\n",
    "        \n",
    "\n",
    "          "
   ]
  },
  {
   "cell_type": "code",
   "execution_count": null,
   "id": "b7ae7e3d-b4ba-4302-8c11-5b283b0e7814",
   "metadata": {},
   "outputs": [],
   "source": []
  },
  {
   "cell_type": "code",
   "execution_count": 35,
   "id": "3b7ac0cd-856f-4dae-a85b-f02abbc0958f",
   "metadata": {
    "scrolled": true
   },
   "outputs": [
    {
     "name": "stdin",
     "output_type": "stream",
     "text": [
      "Enter the value of a:  1\n",
      "Enter the value of b:  5\n",
      "Enter the value of c:  4\n"
     ]
    },
    {
     "name": "stdout",
     "output_type": "stream",
     "text": [
      "The roots are not real\n"
     ]
    }
   ],
   "source": [
    "import numpy as np\n",
    "a = int(input(\"Enter the value of a: \"))\n",
    "b = int(input(\"Enter the value of b: \"))\n",
    "c = int(input(\"Enter the value of c: \"))\n",
    "\n",
    "d = b^2-4*a*c\n",
    "if d >=0:\n",
    "    x1 = (-b + np.sqrt(d))/2*a\n",
    "    x2 = (-b - np.sqrt(d))/2*a\n",
    "    print(\"the rrots are.....\")\n",
    "    print(\"x1=\", x1)\n",
    "    print(\"x2=\", x2)\n",
    "else:  \n",
    "    print(\"The roots are not real\")\n",
    "\n",
    "          "
   ]
  },
  {
   "cell_type": "code",
   "execution_count": 36,
   "id": "dc034284-5ff9-4630-a957-f501fa637aed",
   "metadata": {},
   "outputs": [
    {
     "name": "stdout",
     "output_type": "stream",
     "text": [
      "The value of i is   1\n",
      "The value of i is   2\n",
      "The value of i is   3\n",
      "The value of i is   4\n",
      "The value of i is   5\n",
      "The value of i is   6\n",
      "The value of i is   7\n",
      "The value of i is   8\n",
      "The value of i is   9\n"
     ]
    }
   ],
   "source": [
    "i = 1\n",
    "while (i < 10):\n",
    "    print(\"The value of i is  \", i)\n",
    "    i = i + 1"
   ]
  },
  {
   "cell_type": "code",
   "execution_count": 40,
   "id": "aedb6a8c-b64b-4b9f-9f16-bdf7a724d309",
   "metadata": {},
   "outputs": [
    {
     "name": "stdout",
     "output_type": "stream",
     "text": [
      "0\n",
      "1\n",
      "2\n",
      "3\n",
      "4\n",
      "5\n",
      "6\n",
      "7\n",
      "8\n",
      "9\n"
     ]
    }
   ],
   "source": [
    "n = 10\n",
    "for i in range(n):\n",
    "    print(i)"
   ]
  },
  {
   "cell_type": "code",
   "execution_count": 41,
   "id": "645ac133-b31c-4452-9e67-ff86fa85b59e",
   "metadata": {},
   "outputs": [
    {
     "name": "stdout",
     "output_type": "stream",
     "text": [
      "Try again\n",
      "we found it\n",
      "Try again\n",
      "Try again\n"
     ]
    }
   ],
   "source": [
    "list_fr = [3, 5, \"hello\", 98]\n",
    "for i in list_fr:\n",
    "    if i ==5:\n",
    "        print(\"we found it\")\n",
    "    else:\n",
    "        print(\"Try again\")"
   ]
  },
  {
   "cell_type": "code",
   "execution_count": 44,
   "id": "c1aa2702-7b67-4165-a403-2c21ea827fd3",
   "metadata": {},
   "outputs": [
    {
     "name": "stdout",
     "output_type": "stream",
     "text": [
      "The letter T is a consonant\n",
      "The letter h is a consonant\n",
      "The letter i is a vowel\n",
      "The letter s is a consonant\n",
      "This is likely a space\n",
      "The letter i is a vowel\n",
      "The letter s is a consonant\n",
      "This is likely a space\n",
      "The letter t is a consonant\n",
      "The letter h is a consonant\n",
      "The letter e is a vowel\n",
      "This is likely a space\n",
      "The letter s is a consonant\n",
      "The letter e is a vowel\n",
      "The letter c is a consonant\n",
      "The letter o is a vowel\n",
      "The letter n is a consonant\n",
      "The letter d is a consonant\n",
      "This is likely a space\n",
      "The letter c is a consonant\n",
      "The letter l is a consonant\n",
      "The letter a is a vowel\n",
      "The letter s is a consonant\n",
      "The letter s is a consonant\n",
      "This is likely a space\n",
      "The letter i is a vowel\n",
      "The letter n is a consonant\n",
      "This is likely a space\n",
      "The letter t is a consonant\n",
      "The letter h is a consonant\n",
      "The letter e is a vowel\n",
      "This is likely a space\n",
      "The letter n is a consonant\n",
      "The letter e is a vowel\n",
      "The letter w is a consonant\n",
      "This is likely a space\n",
      "The letter A is a vowel\n",
      "The letter I is a vowel\n",
      "The letter M is a consonant\n",
      "The letter S is a consonant\n",
      "This is likely a space\n",
      "The letter b is a consonant\n",
      "The letter u is a vowel\n",
      "The letter i is a vowel\n",
      "The letter l is a consonant\n",
      "The letter d is a consonant\n",
      "The letter i is a vowel\n",
      "The letter n is a consonant\n",
      "The letter g is a consonant\n",
      "The letter . is a consonant\n"
     ]
    }
   ],
   "source": [
    "sentence = \"This is the second class in the new AIMS building.\"\n",
    "for letter in sentence:\n",
    "    if letter in \"AEIOUaeiou\":\n",
    "        print(\"The letter\", letter, \"is a vowel\")\n",
    "    elif letter == \" \":\n",
    "        print(\"This is likely a space\")\n",
    "    else:\n",
    "        print(\"The letter\", letter, \"is a consonant\")"
   ]
  },
  {
   "cell_type": "code",
   "execution_count": null,
   "id": "ce31c772-0ace-4406-b162-f2a10ad025b4",
   "metadata": {},
   "outputs": [],
   "source": []
  }
 ],
 "metadata": {
  "kernelspec": {
   "display_name": "Python [conda env:base] *",
   "language": "python",
   "name": "conda-base-py"
  },
  "language_info": {
   "codemirror_mode": {
    "name": "ipython",
    "version": 3
   },
   "file_extension": ".py",
   "mimetype": "text/x-python",
   "name": "python",
   "nbconvert_exporter": "python",
   "pygments_lexer": "ipython3",
   "version": "3.13.5"
  }
 },
 "nbformat": 4,
 "nbformat_minor": 5
}
