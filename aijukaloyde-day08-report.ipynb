{
 "cells": [
  {
   "cell_type": "markdown",
   "id": "ca8b1094-7a5b-49e6-a362-2f3b2a48bc4a",
   "metadata": {},
   "source": [
    "### Revision"
   ]
  },
  {
   "cell_type": "markdown",
   "id": "a82b6a38-2250-400f-8e05-18a0ee1f3562",
   "metadata": {},
   "source": [
    "Recursive function is a function that calls itself. eg factorial"
   ]
  },
  {
   "cell_type": "code",
   "execution_count": 1,
   "id": "501cdcb0-5b88-4934-b9b4-6ed10698cfee",
   "metadata": {},
   "outputs": [
    {
     "data": {
      "text/plain": [
       "6"
      ]
     },
     "execution_count": 1,
     "metadata": {},
     "output_type": "execute_result"
    }
   ],
   "source": [
    "def fact(n):\n",
    "    if n <=1: #base case\n",
    "        return 1\n",
    "    return n*fact(n-1) #recursive step\n",
    "\n",
    "fact(3)"
   ]
  },
  {
   "cell_type": "markdown",
   "id": "1d531784-9c56-43cb-aee0-92c4dd332609",
   "metadata": {},
   "source": [
    "### Fibonacci function"
   ]
  },
  {
   "cell_type": "code",
   "execution_count": 6,
   "id": "ce651c9f-3ed7-4c57-b613-09865e9a805c",
   "metadata": {},
   "outputs": [
    {
     "ename": "IndentationError",
     "evalue": "expected an indented block after 'else' statement on line 6 (931018989.py, line 7)",
     "output_type": "error",
     "traceback": [
      "\u001b[1;36m  Cell \u001b[1;32mIn[6], line 7\u001b[1;36m\u001b[0m\n\u001b[1;33m    return func(n-1)+func(n-2)\u001b[0m\n\u001b[1;37m    ^\u001b[0m\n\u001b[1;31mIndentationError\u001b[0m\u001b[1;31m:\u001b[0m expected an indented block after 'else' statement on line 6\n"
     ]
    }
   ],
   "source": [
    "def func(n):\n",
    "    if n == 0:\n",
    "        return 0\n",
    "    elif n == 1:\n",
    "        return 1\n",
    "    else:\n",
    "    return func(n-1)+func(n-2)\n",
    "    "
   ]
  },
  {
   "cell_type": "code",
   "execution_count": 5,
   "id": "73b9c89b-0bb2-4216-a143-48cfcd42d904",
   "metadata": {},
   "outputs": [
    {
     "ename": "NameError",
     "evalue": "name 'func' is not defined",
     "output_type": "error",
     "traceback": [
      "\u001b[1;31m---------------------------------------------------------------------------\u001b[0m",
      "\u001b[1;31mNameError\u001b[0m                                 Traceback (most recent call last)",
      "Cell \u001b[1;32mIn[5], line 1\u001b[0m\n\u001b[1;32m----> 1\u001b[0m func(\u001b[38;5;241m3\u001b[39m)\n",
      "\u001b[1;31mNameError\u001b[0m: name 'func' is not defined"
     ]
    }
   ],
   "source": [
    "func(3)"
   ]
  },
  {
   "cell_type": "code",
   "execution_count": null,
   "id": "a5335f0d-f7ff-40d7-ad85-cfaee0b19383",
   "metadata": {},
   "outputs": [],
   "source": [
    "def func(n):\n",
    "    if n <= 1:\n",
    "        return n\n",
    "    return func(n-1)+func(n-2)\n",
    "\n",
    "func(3)"
   ]
  },
  {
   "cell_type": "code",
   "execution_count": null,
   "id": "deddca84-5c1f-4dab-b256-137329e4f5b2",
   "metadata": {},
   "outputs": [],
   "source": [
    "### Lambda function\n",
    "\n",
    "anonymous ,single expression\n",
    "\n",
    "x = lambda x,y:x*y\n",
    "x(9,3)"
   ]
  },
  {
   "cell_type": "markdown",
   "id": "d68c1dee",
   "metadata": {
    "id": "d68c1dee"
   },
   "source": [
    "# Practical_3: Iterable objects or Containers"
   ]
  },
  {
   "cell_type": "markdown",
   "id": "eb64c0e4-1b8a-4b0b-af17-3d9cae57b248",
   "metadata": {
    "id": "bea983a3"
   },
   "source": [
    "---\n",
    "\n",
    "### Exercise 1:\n",
    "Create a list of integers from 1 to 10."
   ]
  },
  {
   "cell_type": "code",
   "execution_count": 1,
   "id": "79207831-7450-45fc-8b32-f7f570fd3d9d",
   "metadata": {
    "id": "bea983a3"
   },
   "outputs": [
    {
     "name": "stdout",
     "output_type": "stream",
     "text": [
      "[1, 2, 3, 4, 5, 6, 7, 8, 9, 10]\n"
     ]
    }
   ],
   "source": [
    "num = [1, 2, 3, 4, 5, 6, 7, 8, 9,10]\n",
    "print(num)"
   ]
  },
  {
   "cell_type": "markdown",
   "id": "196e0402-2808-4855-8562-d10c66a34e32",
   "metadata": {
    "id": "bea983a3"
   },
   "source": [
    "### Exercise 2:\n",
    "Create a tuple containing the elements `\"apple\"`, `\"banana\"`, and `\"cherry\"`."
   ]
  },
  {
   "cell_type": "code",
   "execution_count": 4,
   "id": "cb1545df-bc04-46ca-9df2-2013b95ba6fd",
   "metadata": {
    "id": "bea983a3"
   },
   "outputs": [
    {
     "name": "stdout",
     "output_type": "stream",
     "text": [
      "('apples', 'banana', 'cherry')\n"
     ]
    },
    {
     "data": {
      "text/plain": [
       "3"
      ]
     },
     "execution_count": 4,
     "metadata": {},
     "output_type": "execute_result"
    }
   ],
   "source": [
    "fruits = (\"apples\", \"banana\", \"cherry\")\n",
    "print(fruits)\n",
    "len(fruits)"
   ]
  },
  {
   "cell_type": "markdown",
   "id": "e7211a60-17fa-4a65-adfe-a84b4cfb84dd",
   "metadata": {
    "id": "bea983a3"
   },
   "source": [
    "### Exercise 3:\n",
    "Convert the list `numbers = [10, 20, 30, 40]` into a tuple.\n",
    "\n"
   ]
  },
  {
   "cell_type": "code",
   "execution_count": 2,
   "id": "0934b793-fd1a-4a3f-b27b-bdd47aa8bf31",
   "metadata": {},
   "outputs": [
    {
     "name": "stdout",
     "output_type": "stream",
     "text": [
      "(10, 20, 30, 40)\n"
     ]
    }
   ],
   "source": [
    "numbers = [10,20,30,40]\n",
    "num = tuple([10, 20, 30,40])\n",
    "print(num)"
   ]
  },
  {
   "cell_type": "code",
   "execution_count": 1,
   "id": "b2041f03-36f7-4f90-953d-e43e74cce790",
   "metadata": {},
   "outputs": [
    {
     "name": "stdout",
     "output_type": "stream",
     "text": [
      "(10, 20, 30, 40)\n"
     ]
    }
   ],
   "source": [
    "list =tuple([10,20,30,40])\n",
    "print(list)"
   ]
  },
  {
   "cell_type": "markdown",
   "id": "b738b7b3-27f2-420d-814d-8ec5a39d384f",
   "metadata": {
    "id": "bea983a3"
   },
   "source": [
    "### Exercise 4:\n",
    "Create a set containing the elements `1, 2, 3, 4, 5`."
   ]
  },
  {
   "cell_type": "code",
   "execution_count": 5,
   "id": "2d97cab4-5c44-4f2f-a1a2-8ef3f4606c95",
   "metadata": {
    "id": "bea983a3"
   },
   "outputs": [
    {
     "name": "stdout",
     "output_type": "stream",
     "text": [
      "{1, 2, 3, 4, 5}\n"
     ]
    }
   ],
   "source": [
    "num = {1, 2, 3, 4, 5}\n",
    "print(num)"
   ]
  },
  {
   "cell_type": "markdown",
   "id": "59ea1794-a22b-4b57-9160-523f4acf1b12",
   "metadata": {
    "id": "bea983a3"
   },
   "source": [
    "### Exercise 5:\n",
    "Create a dictionary `student` with the keys `\"name\"`, `\"age\"`, and `\"grade\"` and corresponding values `\"Alice\"`, `20`, and `\"A\"`."
   ]
  },
  {
   "cell_type": "code",
   "execution_count": 15,
   "id": "330bd61d-ba56-4c9b-b1b1-f2621a2742aa",
   "metadata": {},
   "outputs": [
    {
     "name": "stdout",
     "output_type": "stream",
     "text": [
      "{'name': 'Alice', 'age': 20, 'grade': 'A'}\n"
     ]
    },
    {
     "data": {
      "text/plain": [
       "3"
      ]
     },
     "execution_count": 15,
     "metadata": {},
     "output_type": "execute_result"
    }
   ],
   "source": [
    "student = {\"name\":\"Alice\", \"age\":20, \"grade\":\"A\"}\n",
    "print(student)\n",
    "len(student)"
   ]
  },
  {
   "cell_type": "markdown",
   "id": "7d937685-1510-4038-bfde-7e2454cc1e9c",
   "metadata": {
    "id": "bea983a3"
   },
   "source": [
    "### Exercise 6:\n",
    "Access the second element of the list `[10, 20, 30, 40, 50]` using indexing."
   ]
  },
  {
   "cell_type": "code",
   "execution_count": 17,
   "id": "99d046d8-7719-42af-931b-5b60130b537c",
   "metadata": {},
   "outputs": [
    {
     "name": "stdout",
     "output_type": "stream",
     "text": [
      "20\n",
      "20\n"
     ]
    }
   ],
   "source": [
    "list = [10, 20, 30, 40, 50]\n",
    "print(list[1])\n",
    "print(list[-4])"
   ]
  },
  {
   "cell_type": "markdown",
   "id": "09bade64-efcb-46ec-855b-3b12e1381f15",
   "metadata": {
    "id": "bea983a3"
   },
   "source": [
    "### Exercise 7:\n",
    "Change the third element of the list `fruits = [\"apple\", \"banana\", \"cherry\", \"orange\"]` to `\"mango\"`."
   ]
  },
  {
   "cell_type": "code",
   "execution_count": 18,
   "id": "c33ff40e-6664-452a-9d07-554c9ee1785f",
   "metadata": {},
   "outputs": [
    {
     "name": "stdout",
     "output_type": "stream",
     "text": [
      "['apple', 'banana', 'mango', 'orange']\n"
     ]
    }
   ],
   "source": [
    "fruits =[\"apple\",\"banana\", \"cherry\", \"orange\"]\n",
    "fruits[2] = \"mango\"\n",
    "print(fruits)"
   ]
  },
  {
   "cell_type": "markdown",
   "id": "16af510a-4af6-456f-8c29-3effa269c737",
   "metadata": {
    "id": "bea983a3"
   },
   "source": [
    "### Exercise 8:\n",
    "Add the number `6` to the set `numbers = {1, 2, 3, 4, 5}`."
   ]
  },
  {
   "cell_type": "code",
   "execution_count": 21,
   "id": "65a00522-98c4-4d9b-aafb-78db240d2072",
   "metadata": {},
   "outputs": [
    {
     "name": "stdout",
     "output_type": "stream",
     "text": [
      "{1, 2, 3, 4, 5}\n",
      "{1, 2, 3, 4, 5, 6}\n"
     ]
    }
   ],
   "source": [
    "numbers = {1, 2, 3, 4, 5}\n",
    "print(numbers)\n",
    "numbers.add(6)\n",
    "print(numbers)"
   ]
  },
  {
   "cell_type": "markdown",
   "id": "3aabcee9-dea3-4d35-b891-d6cdf04b87d6",
   "metadata": {
    "id": "bea983a3"
   },
   "source": [
    "### Exercise 9:\n",
    "Remove the key `\"age\"` from the dictionary `person = {\"name\": \"John\", \"age\": 25, \"city\": \"New York\"}`."
   ]
  },
  {
   "cell_type": "code",
   "execution_count": 24,
   "id": "33648d1f-b121-42b7-ac37-28af925611a4",
   "metadata": {},
   "outputs": [
    {
     "name": "stdout",
     "output_type": "stream",
     "text": [
      "{'name': 'John', 'city': 'New York'}\n"
     ]
    }
   ],
   "source": [
    "person = {\"name\":\"John\", \"age\":25, \"city\":\"New York\"}\n",
    "del person[\"age\"]\n",
    "print(person)\n"
   ]
  },
  {
   "cell_type": "markdown",
   "id": "c73aeba1-462b-4bfd-a995-e19948595464",
   "metadata": {
    "id": "bea983a3"
   },
   "source": [
    "### Exercise 10:\n",
    "Create a range object starting from 0 to 9."
   ]
  },
  {
   "cell_type": "code",
   "execution_count": 25,
   "id": "8d9283b3-0cf6-4449-a65d-7234be6a848a",
   "metadata": {},
   "outputs": [
    {
     "name": "stdout",
     "output_type": "stream",
     "text": [
      "range(0, 10)\n"
     ]
    }
   ],
   "source": [
    "num =range(0,10)\n",
    "print(num)"
   ]
  },
  {
   "cell_type": "markdown",
   "id": "59ac38ff-4e33-46a2-9ad4-81b1c4aa8260",
   "metadata": {
    "id": "bea983a3"
   },
   "source": [
    "### Exercise 11:\n",
    "Use a list comprehension to create a list of squares of numbers from 1 to 10."
   ]
  },
  {
   "cell_type": "code",
   "execution_count": 4,
   "id": "2be06b8d-df55-4627-b96c-44c02b058034",
   "metadata": {},
   "outputs": [
    {
     "name": "stdout",
     "output_type": "stream",
     "text": [
      "10\n"
     ]
    }
   ],
   "source": [
    "num = 1\n",
    "for i in range(1, 11):\n",
    "    num = num*i\n",
    "print(i)"
   ]
  },
  {
   "cell_type": "code",
   "execution_count": 36,
   "id": "d7c6d734-f94b-4350-a77a-75702f97110f",
   "metadata": {},
   "outputs": [
    {
     "name": "stdout",
     "output_type": "stream",
     "text": [
      "[1, 4, 9, 16, 25, 36, 49, 64, 81, 100]\n"
     ]
    }
   ],
   "source": [
    "squares = [i**2 for i in range(1,11)]\n",
    "print(squares)"
   ]
  },
  {
   "cell_type": "code",
   "execution_count": 32,
   "id": "57641322-2e7d-42fb-840e-cb0c9d0924a4",
   "metadata": {},
   "outputs": [
    {
     "name": "stdout",
     "output_type": "stream",
     "text": [
      "[1, 4, 9, 16, 25, 36, 49, 64, 81, 100]\n"
     ]
    }
   ],
   "source": [
    "squares =[]\n",
    "\n",
    "for i in range(1,11):\n",
    "    squares.append(i**2)\n",
    "print(squares)"
   ]
  },
  {
   "cell_type": "markdown",
   "id": "a07a94ba-1526-4a37-a083-dd1ef9612ba6",
   "metadata": {
    "id": "bea983a3"
   },
   "source": [
    "### Exercise 12:\n",
    "Create a tuple of even numbers between 2 and 10 using a tuple comprehension."
   ]
  },
  {
   "cell_type": "code",
   "execution_count": 3,
   "id": "aaf7b8d0-016f-4ce6-a1d7-4db7059c29fc",
   "metadata": {},
   "outputs": [
    {
     "name": "stdout",
     "output_type": "stream",
     "text": [
      "(2, 4, 6, 8, 10)\n"
     ]
    }
   ],
   "source": [
    "even =tuple([i*2 for i in range(1, 6)])\n",
    "print(even)\n",
    "               "
   ]
  },
  {
   "cell_type": "code",
   "execution_count": 2,
   "id": "21118720-e1a8-41e4-98f5-fcf096363483",
   "metadata": {},
   "outputs": [
    {
     "name": "stdout",
     "output_type": "stream",
     "text": [
      "(2, 4, 6, 8, 10)\n"
     ]
    }
   ],
   "source": [
    "even = tuple(x for x in range (2, 11) if x%2==0)\n",
    "print(even)"
   ]
  },
  {
   "cell_type": "markdown",
   "id": "4e7c131c-1c65-4657-a3f8-9776c4cf2428",
   "metadata": {
    "id": "bea983a3"
   },
   "source": [
    "### Exercise 13:\n",
    "Use a for loop to iterate through the list `fruits = [\"apple\", \"banana\", \"cherry\"]` and print each element."
   ]
  },
  {
   "cell_type": "code",
   "execution_count": 51,
   "id": "f3bc219b-8a8f-4be3-9c42-2f76defe5002",
   "metadata": {},
   "outputs": [
    {
     "name": "stdout",
     "output_type": "stream",
     "text": [
      "apples\n",
      "banana\n",
      "cherry\n"
     ]
    }
   ],
   "source": [
    "fruits = [\"apples\", \"banana\", \"cherry\"]\n",
    "for i in fruits:\n",
    "    print(i)"
   ]
  },
  {
   "cell_type": "markdown",
   "id": "6a6f4970-bdd7-45d0-81bd-056fc66bf4aa",
   "metadata": {
    "id": "bea983a3"
   },
   "source": [
    "### Exercise 14:\n",
    "Check if the value `3` exists in the set `numbers = {1, 2, 3, 4, 5}`."
   ]
  },
  {
   "cell_type": "code",
   "execution_count": 57,
   "id": "d2c07b43-738f-4316-a3ec-f899d71b0a50",
   "metadata": {},
   "outputs": [
    {
     "data": {
      "text/plain": [
       "True"
      ]
     },
     "execution_count": 57,
     "metadata": {},
     "output_type": "execute_result"
    }
   ],
   "source": [
    "numbers = {1, 2, 3, 4, 5}\n",
    "3 in numbers         "
   ]
  },
  {
   "cell_type": "markdown",
   "id": "e7ee6c89-a254-4838-a034-30ebafaaa616",
   "metadata": {
    "id": "bea983a3"
   },
   "source": [
    "### Exercise 15:\n",
    "Use the `len()` function to find the length of the tuple `numbers = (10, 20, 30)`."
   ]
  },
  {
   "cell_type": "code",
   "execution_count": 53,
   "id": "a91f8657-49ac-489e-bc15-9dfc7237b7a0",
   "metadata": {},
   "outputs": [
    {
     "data": {
      "text/plain": [
       "3"
      ]
     },
     "execution_count": 53,
     "metadata": {},
     "output_type": "execute_result"
    }
   ],
   "source": [
    "numbers = (10, 20, 30)\n",
    "len(numbers)"
   ]
  },
  {
   "cell_type": "markdown",
   "id": "61f929e4-0fb4-463c-9fe5-a94ced786bfa",
   "metadata": {
    "id": "bea983a3"
   },
   "source": [
    "### Exercise 16:\n",
    "Add the value `100` at the end of the list `scores = [80, 85, 90, 95]`."
   ]
  },
  {
   "cell_type": "code",
   "execution_count": 70,
   "id": "acf8d681-4927-45cd-8182-529ed6937203",
   "metadata": {},
   "outputs": [
    {
     "name": "stdout",
     "output_type": "stream",
     "text": [
      "[80, 85, 90, 95, 100]\n",
      "[80, 85, 90, 95, 100, 105, 200, 250]\n"
     ]
    }
   ],
   "source": [
    "scores = [80, 85, 90, 95]\n",
    "scores.append(100)\n",
    "print(scores)\n",
    "scores.extend([105,200,250])\n",
    "print(scores)"
   ]
  },
  {
   "cell_type": "code",
   "execution_count": null,
   "id": "a4394ec6-5685-4419-8d69-0a30aa9b533d",
   "metadata": {},
   "outputs": [],
   "source": []
  },
  {
   "cell_type": "markdown",
   "id": "19708c92-adfe-45b3-9ed6-01c9ef7e7540",
   "metadata": {
    "id": "bea983a3"
   },
   "source": [
    "### Exercise 17:\n",
    "Write a function that takes a list as input and returns the sum of all elements in the list."
   ]
  },
  {
   "cell_type": "code",
   "execution_count": 59,
   "id": "f86d7f07-91fd-4f0b-993c-553dc9c888f8",
   "metadata": {},
   "outputs": [
    {
     "data": {
      "text/plain": [
       "54"
      ]
     },
     "execution_count": 59,
     "metadata": {},
     "output_type": "execute_result"
    }
   ],
   "source": [
    "def func(lst):\n",
    "    total = 0\n",
    "    for v in lst:\n",
    "        total = total + v\n",
    "    return total\n",
    "\n",
    "\n",
    "func([12, 23, 1, 4, 5, 9])"
   ]
  },
  {
   "cell_type": "code",
   "execution_count": 61,
   "id": "b54b741b-429f-4f73-b74c-6b53633a42d0",
   "metadata": {},
   "outputs": [
    {
     "data": {
      "text/plain": [
       "815"
      ]
     },
     "execution_count": 61,
     "metadata": {},
     "output_type": "execute_result"
    }
   ],
   "source": [
    "def sum(list):\n",
    "    total = 0\n",
    "    for i in list:\n",
    "        total = total + i\n",
    "    return total\n",
    "\n",
    "sum([78,83,562,92])\n",
    "        "
   ]
  },
  {
   "cell_type": "markdown",
   "id": "91071d40-0e18-446b-b4b2-c3602eb3fc07",
   "metadata": {
    "id": "bea983a3"
   },
   "source": [
    "### Exercise 18:\n",
    "Create a set containing the unique elements of the list `numbers = [1, 2, 2, 3, 4, 4, 5]`."
   ]
  },
  {
   "cell_type": "code",
   "execution_count": 71,
   "id": "7587af44-b16b-44d1-8a30-a34839e27bf6",
   "metadata": {},
   "outputs": [
    {
     "data": {
      "text/plain": [
       "{1, 2, 3, 4, 5}"
      ]
     },
     "execution_count": 71,
     "metadata": {},
     "output_type": "execute_result"
    }
   ],
   "source": [
    "numbers = [1, 2, 2, 3, 4, 4, 5]\n",
    "set(numbers)"
   ]
  },
  {
   "cell_type": "markdown",
   "id": "91b009fa-04f3-4543-9a97-3ac7bbd57385",
   "metadata": {
    "id": "bea983a3"
   },
   "source": [
    "### Exercise 19:\n",
    "Convert the string `\"hello\"` into a list of characters."
   ]
  },
  {
   "cell_type": "code",
   "execution_count": 1,
   "id": "d62e2464-0979-41c6-8475-fcd93b7ce3c2",
   "metadata": {},
   "outputs": [
    {
     "name": "stdout",
     "output_type": "stream",
     "text": [
      "['h', 'e', 'l', 'l', 'o']\n"
     ]
    }
   ],
   "source": [
    "x = \"hello\"\n",
    "char = list(x)\n",
    "print(char)"
   ]
  },
  {
   "cell_type": "markdown",
   "id": "62a6ccb2-3849-483f-a034-9328cc569d02",
   "metadata": {
    "id": "bea983a3"
   },
   "source": [
    "### Exercise 20:\n",
    "Write a Python function that reverses a tuple `(1, 2, 3, 4)`."
   ]
  },
  {
   "cell_type": "code",
   "execution_count": 1,
   "id": "daf29cae-ee94-480d-9aa1-096cec3b9146",
   "metadata": {},
   "outputs": [
    {
     "name": "stdout",
     "output_type": "stream",
     "text": [
      "(4, 3, 2, 1)\n"
     ]
    }
   ],
   "source": [
    "t =(1, 2, 3, 4)\n",
    "x = tuple(reversed(t))\n",
    "print(x)"
   ]
  },
  {
   "cell_type": "markdown",
   "id": "48c6457f-1838-40ec-86bc-bce061b75f02",
   "metadata": {
    "id": "bea983a3"
   },
   "source": [
    "### Exercise 21:\n",
    "Merge two dictionaries `dict1 = {\"a\": 1, \"b\": 2}` and `dict2 = {\"c\": 3, \"d\": 4}` into a single dictionary."
   ]
  },
  {
   "cell_type": "code",
   "execution_count": 6,
   "id": "ae9e66b8-924f-4e3c-9592-9dc623fda1e0",
   "metadata": {},
   "outputs": [
    {
     "name": "stdout",
     "output_type": "stream",
     "text": [
      "{'a': 1, 'b': 2, 'c': 3, 'd': 4}\n"
     ]
    }
   ],
   "source": [
    "dict1 = {\"a\": 1, \"b\": 2}\n",
    "dict2 = {\"c\": 3, \"d\": 4}\n",
    "dict = dict1|dict2\n",
    "print(dict)"
   ]
  },
  {
   "cell_type": "markdown",
   "id": "fefb4ed0-0644-4093-815e-4a2b242c2f15",
   "metadata": {
    "id": "bea983a3"
   },
   "source": [
    "### Exercise 22:\n",
    "Create a dictionary where keys are numbers from 1 to 5, and values are their squares."
   ]
  },
  {
   "cell_type": "code",
   "execution_count": 8,
   "id": "00f25f72-2c9b-4cbc-8a33-57dcbd6ade11",
   "metadata": {},
   "outputs": [
    {
     "name": "stdout",
     "output_type": "stream",
     "text": [
      "{1: 1, 2: 4, 3: 9, 4: 16, 5: 25}\n"
     ]
    }
   ],
   "source": [
    "square_dict = {}\n",
    "for i in range(1,6):\n",
    "    square_dict[i]=i*i\n",
    "print(square_dict)"
   ]
  },
  {
   "cell_type": "markdown",
   "id": "94adf898-8c06-4d70-a8fa-e07738edf352",
   "metadata": {
    "id": "bea983a3"
   },
   "source": [
    "### Exercise 23:\n",
    "Write a Python program to iterate through a dictionary and print each key-value pair."
   ]
  },
  {
   "cell_type": "code",
   "execution_count": 11,
   "id": "7b24c393-86b3-4ed1-ac68-8bd7f3f2d130",
   "metadata": {},
   "outputs": [
    {
     "name": "stdout",
     "output_type": "stream",
     "text": [
      "key: 1, value: 1\n",
      "key: 2, value: 4\n",
      "key: 3, value: 9\n",
      "key: 4, value: 16\n",
      "key: 5, value: 25\n"
     ]
    }
   ],
   "source": [
    "my_dict = {1:1, 2:4, 3:9, 4:16, 5:25}\n",
    "for key, value in my_dict.items():\n",
    "    print(f\"key: {key}, value: {value}\")\n",
    "\n"
   ]
  },
  {
   "cell_type": "markdown",
   "id": "140c84c9-0e22-4a7b-ac07-9509035ec57f",
   "metadata": {
    "id": "bea983a3"
   },
   "source": [
    "### Exercise 24:\n",
    "Create a list of the first 5 letters of the alphabet using the `chr()` function."
   ]
  },
  {
   "cell_type": "code",
   "execution_count": 8,
   "id": "0b9b84dd-4952-4e4d-aad9-b799bc5dbcb3",
   "metadata": {},
   "outputs": [
    {
     "name": "stdout",
     "output_type": "stream",
     "text": [
      "['a', 'b', 'c', 'd', 'e']\n"
     ]
    }
   ],
   "source": [
    "a = []\n",
    "for i in range(ord(\"a\"), ord(\"e\") + 1):\n",
    "    a.append(chr(i))\n",
    "print(a)\n",
    "    "
   ]
  },
  {
   "cell_type": "code",
   "execution_count": 5,
   "id": "188d32c8-4f02-4344-a291-76d68a1b3c00",
   "metadata": {},
   "outputs": [
    {
     "name": "stdout",
     "output_type": "stream",
     "text": [
      "['a', 'b', 'c', 'd', 'e']\n"
     ]
    }
   ],
   "source": [
    "a = [chr(i) for i in range(97,102)]\n",
    "print(a)"
   ]
  },
  {
   "cell_type": "markdown",
   "id": "0bcca8e5-1ff2-43d4-ba17-886ad92b4989",
   "metadata": {
    "id": "bea983a3"
   },
   "source": [
    "### Exercise 25:\n",
    "Use the `zip()` function to combine two lists `[1, 2, 3]` and `[\"a\", \"b\", \"c\"]` into a list of tuples."
   ]
  },
  {
   "cell_type": "code",
   "execution_count": 11,
   "id": "8c3217f3-bea8-4ddd-92f9-1bf7da829dd4",
   "metadata": {},
   "outputs": [
    {
     "name": "stdout",
     "output_type": "stream",
     "text": [
      "[(1, 'a'), (2, 'b'), (3, 'c')]\n"
     ]
    }
   ],
   "source": [
    "list_1 =[1, 2, 3]\n",
    "list_2 =[\"a\", \"b\", \"c\"]\n",
    "combined = list(zip(list_1,list_2))\n",
    "print(combined)"
   ]
  },
  {
   "cell_type": "markdown",
   "id": "5697349c-b652-4122-a5b8-027c5424da53",
   "metadata": {
    "id": "bea983a3"
   },
   "source": [
    "### Exercise 26:\n",
    "Find the index of the value `50` in the list `[10, 20, 30, 40, 50]`."
   ]
  },
  {
   "cell_type": "code",
   "execution_count": 18,
   "id": "3ea5cfe7-a165-4f35-ba77-2da95dec46ea",
   "metadata": {},
   "outputs": [
    {
     "data": {
      "text/plain": [
       "4"
      ]
     },
     "execution_count": 18,
     "metadata": {},
     "output_type": "execute_result"
    }
   ],
   "source": [
    "a =[10, 20, 30, 40, 50]\n",
    "a.index(50)"
   ]
  },
  {
   "cell_type": "code",
   "execution_count": 21,
   "id": "5f0390b8-c208-4f16-993b-cfef17772298",
   "metadata": {},
   "outputs": [
    {
     "data": {
      "text/plain": [
       "[50, 40, 30, 20, 10]"
      ]
     },
     "execution_count": 21,
     "metadata": {},
     "output_type": "execute_result"
    }
   ],
   "source": [
    "a = [10, 20, 30, 40,50]\n",
    "a[::-1]"
   ]
  },
  {
   "cell_type": "code",
   "execution_count": 5,
   "id": "d67de131-11e6-41f0-8618-6802133c6887",
   "metadata": {},
   "outputs": [
    {
     "name": "stdout",
     "output_type": "stream",
     "text": [
      "[50, 40, 30, 20, 10]\n"
     ]
    }
   ],
   "source": [
    "a = [10, 20, 30, 40, 50]\n",
    "my_list = list(reversed(a))\n",
    "print(my_list)"
   ]
  },
  {
   "cell_type": "markdown",
   "id": "7fb2432b-ec0d-4bc5-ad6b-5871453dc053",
   "metadata": {
    "id": "bea983a3"
   },
   "source": [
    "### Exercise 27:\n",
    "Sort the list `names = [\"Alice\", \"Bob\", \"Charlie\", \"David\"]` in alphabetical order."
   ]
  },
  {
   "cell_type": "code",
   "execution_count": 11,
   "id": "5adc48f8-ad7d-4007-b881-db65063822e3",
   "metadata": {},
   "outputs": [
    {
     "name": "stdout",
     "output_type": "stream",
     "text": [
      "['Alice', 'Bob', 'Charlie', 'David', 'Loyde']\n"
     ]
    }
   ],
   "source": [
    "names =[\"Alice\", \"Bob\", \"Charlie\", \"Loyde\",\"David\"]\n",
    "names.sort()\n",
    "print(names)"
   ]
  },
  {
   "cell_type": "markdown",
   "id": "cc61fb51-5042-4ccd-8b77-93a985634992",
   "metadata": {
    "id": "bea983a3"
   },
   "source": [
    "### Exercise 28:\n",
    "Write a Python function that takes a list of integers as input and returns the largest number."
   ]
  },
  {
   "cell_type": "code",
   "execution_count": 12,
   "id": "4ea93d3e-c7cb-4e1d-ac67-0c0fd2e08036",
   "metadata": {},
   "outputs": [
    {
     "name": "stdout",
     "output_type": "stream",
     "text": [
      "823023\n"
     ]
    }
   ],
   "source": [
    "def func(list):\n",
    "    return max(list)\n",
    "num =[7458,823023,768]\n",
    "largest =func(num)\n",
    "print(largest)\n",
    "            "
   ]
  },
  {
   "cell_type": "markdown",
   "id": "418355f6-bdf3-4738-b46b-adb5ddd6d8fb",
   "metadata": {
    "id": "bea983a3"
   },
   "source": [
    "### Exercise 29:\n",
    "Use the `count()` method to count how many times `\"apple\"` appears in the list `fruits = [\"apple\", \"banana\", \"apple\", \"orange\"]`."
   ]
  },
  {
   "cell_type": "code",
   "execution_count": 20,
   "id": "e951eab4-77bf-4008-8238-32e42cfb2ea7",
   "metadata": {},
   "outputs": [
    {
     "data": {
      "text/plain": [
       "2"
      ]
     },
     "execution_count": 20,
     "metadata": {},
     "output_type": "execute_result"
    }
   ],
   "source": [
    "fruits = [\"apple\", \"banana\", \"apple\", \"orange\"]\n",
    "fruits.count(\"apple\")"
   ]
  },
  {
   "cell_type": "markdown",
   "id": "e2bcd89b-067d-428e-bf90-88c354ef3f18",
   "metadata": {
    "id": "bea983a3"
   },
   "source": [
    "### Exercise 30:\n",
    "Create a dictionary `person` where keys are `\"name\"`, `\"age\"`, and `\"city\"`, and values are `\"Alice\"`, `25`, and `\"New York\"` respectively. Then access the value of the `\"city\"` key."
   ]
  },
  {
   "cell_type": "code",
   "execution_count": 21,
   "id": "40483f05-8452-4f67-a01e-d3f0a9acc1a9",
   "metadata": {},
   "outputs": [
    {
     "name": "stdout",
     "output_type": "stream",
     "text": [
      "{'name': 'Alice', 'age': 25, 'city': 'New York', 'height': 45}\n"
     ]
    }
   ],
   "source": [
    "person ={\"name\":\"Alice\", \"age\":25, \"city\":\"New York\"}\n",
    "person[\"height\"] = 45\n",
    "print(person)"
   ]
  },
  {
   "cell_type": "code",
   "execution_count": 26,
   "id": "0f2e5dc8-ad8d-4961-a0fd-215b684ad548",
   "metadata": {},
   "outputs": [
    {
     "name": "stdout",
     "output_type": "stream",
     "text": [
      "New York\n"
     ]
    }
   ],
   "source": [
    "name= person[\"city\"]\n",
    "print(name)"
   ]
  },
  {
   "cell_type": "markdown",
   "id": "687e1a65-f969-42fb-93f5-0823a157375e",
   "metadata": {
    "id": "bea983a3"
   },
   "source": [
    "### Exercise 31:\n",
    "Write a Python script that takes a list as input and returns a new list with all duplicates removed."
   ]
  },
  {
   "cell_type": "code",
   "execution_count": 31,
   "id": "7959eac9-770d-46f2-bac1-944e7759a40c",
   "metadata": {},
   "outputs": [
    {
     "data": {
      "text/plain": [
       "[70, 40, 10, 50, 20, 30]"
      ]
     },
     "execution_count": 31,
     "metadata": {},
     "output_type": "execute_result"
    }
   ],
   "source": [
    "num = [10,20,30,30,40,10,50,70]\n",
    "list(set(num))"
   ]
  },
  {
   "cell_type": "markdown",
   "id": "a93730ce-da6a-49ea-a9d4-f84df58d7238",
   "metadata": {
    "id": "bea983a3"
   },
   "source": [
    "### Exercise 32:\n",
    "Write a Python function that takes two lists and returns their intersection."
   ]
  },
  {
   "cell_type": "code",
   "execution_count": 33,
   "id": "0ae387e3-c5ef-4143-82e0-0499ca27d758",
   "metadata": {},
   "outputs": [
    {
     "data": {
      "text/plain": [
       "[40]"
      ]
     },
     "execution_count": 33,
     "metadata": {},
     "output_type": "execute_result"
    }
   ],
   "source": [
    "A = [40,50,60,70]\n",
    "B = [10,20,30,40]\n",
    "list(set(A) & set(B))"
   ]
  },
  {
   "cell_type": "markdown",
   "id": "6c4b4e06-f641-47c8-a24a-93221b75fa3d",
   "metadata": {
    "id": "bea983a3"
   },
   "source": [
    "### Exercise 33:\n",
    "Create a generator that yields the squares of numbers from 1 to 10."
   ]
  },
  {
   "cell_type": "code",
   "execution_count": 28,
   "id": "e0d5dc5a-c438-4a44-a791-28033df68f92",
   "metadata": {},
   "outputs": [
    {
     "name": "stdout",
     "output_type": "stream",
     "text": [
      "[1, 4, 9, 16, 25, 36, 49, 64, 81, 100]\n"
     ]
    }
   ],
   "source": [
    "squares =[]\n",
    "for i in range(1,11):\n",
    "    squares.append(i*i)\n",
    "print(squares)"
   ]
  },
  {
   "cell_type": "code",
   "execution_count": null,
   "id": "a300696d-9877-4bc2-b429-53aff2dfd31d",
   "metadata": {},
   "outputs": [],
   "source": []
  }
 ],
 "metadata": {
  "colab": {
   "provenance": []
  },
  "kernelspec": {
   "display_name": "Python [conda env:base] *",
   "language": "python",
   "name": "conda-base-py"
  },
  "language_info": {
   "codemirror_mode": {
    "name": "ipython",
    "version": 3
   },
   "file_extension": ".py",
   "mimetype": "text/x-python",
   "name": "python",
   "nbconvert_exporter": "python",
   "pygments_lexer": "ipython3",
   "version": "3.13.5"
  }
 },
 "nbformat": 4,
 "nbformat_minor": 5
}
