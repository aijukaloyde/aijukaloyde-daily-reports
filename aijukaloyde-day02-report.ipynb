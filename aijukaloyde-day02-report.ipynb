{
 "cells": [
  {
   "cell_type": "markdown",
   "id": "contrary-leonard",
   "metadata": {},
   "source": [
    "# 1.Dynamic Typing in Python\n",
    "\n",
    "examples\n"
   ]
  },
  {
   "cell_type": "code",
   "execution_count": 13,
   "id": "focal-dialogue",
   "metadata": {},
   "outputs": [
    {
     "name": "stdout",
     "output_type": "stream",
     "text": [
      "<class 'str'>\n",
      "<class 'list'>\n"
     ]
    }
   ],
   "source": [
    "m = \"loyde\"\n",
    "print(type(m))\n",
    "m = 38\n",
    "m = [72, 3, \"color\"]\n",
    "print(type(m))"
   ]
  },
  {
   "cell_type": "markdown",
   "id": "documented-edmonton",
   "metadata": {},
   "source": [
    "# 2.Coercion in Python"
   ]
  },
  {
   "cell_type": "code",
   "execution_count": 2,
   "id": "coral-giving",
   "metadata": {},
   "outputs": [
    {
     "name": "stdout",
     "output_type": "stream",
     "text": [
      "NAME43 <class 'str'>\n"
     ]
    }
   ],
   "source": [
    "x = \"NAME\"       \n",
    "y = str(43)      \n",
    "\n",
    "result = x + y\n",
    "\n",
    "print(result, type(result))"
   ]
  },
  {
   "cell_type": "code",
   "execution_count": 35,
   "id": "unlikely-damage",
   "metadata": {},
   "outputs": [
    {
     "name": "stdout",
     "output_type": "stream",
     "text": [
      "('I am ', 25, ' years old.')\n"
     ]
    }
   ],
   "source": [
    "age = 25\n",
    "\n",
    "\n",
    "message = \"I am \" , age , \" years old.\"\n",
    "print(message)"
   ]
  },
  {
   "cell_type": "code",
   "execution_count": 34,
   "id": "constitutional-salem",
   "metadata": {},
   "outputs": [
    {
     "name": "stdout",
     "output_type": "stream",
     "text": [
      "I am 25 years old.\n"
     ]
    }
   ],
   "source": [
    "age = 25\n",
    "message = \"I am \" + str(age) + \" years old.\"\n",
    "print(message)"
   ]
  },
  {
   "cell_type": "markdown",
   "id": "separated-malawi",
   "metadata": {},
   "source": [
    "## 3. Methods associated with variables"
   ]
  },
  {
   "cell_type": "code",
   "execution_count": 36,
   "id": "extensive-limit",
   "metadata": {},
   "outputs": [
    {
     "name": "stdout",
     "output_type": "stream",
     "text": [
      "Help on built-in function conjugate:\n",
      "\n",
      "conjugate(...) method of builtins.complex instance\n",
      "    complex.conjugate() -> complex\n",
      "    \n",
      "    Return the complex conjugate of its argument. (3-4j).conjugate() == 3+4j.\n",
      "\n"
     ]
    },
    {
     "data": {
      "text/plain": [
       "(2-23j)"
      ]
     },
     "execution_count": 36,
     "metadata": {},
     "output_type": "execute_result"
    }
   ],
   "source": [
    "x=23j+2\n",
    "help(x.conjugate)\n",
    "x.conjugate()"
   ]
  },
  {
   "cell_type": "code",
   "execution_count": 46,
   "id": "spatial-windows",
   "metadata": {},
   "outputs": [
    {
     "name": "stdout",
     "output_type": "stream",
     "text": [
      "['__add__', '__class__', '__class_getitem__', '__contains__', '__delattr__', '__delitem__', '__dir__', '__doc__', '__eq__', '__format__', '__ge__', '__getattribute__', '__getitem__', '__gt__', '__hash__', '__iadd__', '__imul__', '__init__', '__init_subclass__', '__iter__', '__le__', '__len__', '__lt__', '__mul__', '__ne__', '__new__', '__reduce__', '__reduce_ex__', '__repr__', '__reversed__', '__rmul__', '__setattr__', '__setitem__', '__sizeof__', '__str__', '__subclasshook__', 'append', 'clear', 'copy', 'count', 'extend', 'index', 'insert', 'pop', 'remove', 'reverse', 'sort']\n"
     ]
    }
   ],
   "source": [
    "x = [1, 2, 3,2,2 ,4, 5]\n",
    "print(dir(x))"
   ]
  },
  {
   "cell_type": "code",
   "execution_count": 48,
   "id": "turned-window",
   "metadata": {},
   "outputs": [
    {
     "data": {
      "text/plain": [
       "7"
      ]
     },
     "execution_count": 48,
     "metadata": {},
     "output_type": "execute_result"
    }
   ],
   "source": [
    "len(x)"
   ]
  },
  {
   "cell_type": "code",
   "execution_count": 10,
   "id": "charming-start",
   "metadata": {},
   "outputs": [
    {
     "name": "stdout",
     "output_type": "stream",
     "text": [
      "[1, 2, 3, 2, 9, 2, 4, 5]\n"
     ]
    }
   ],
   "source": [
    "x = [1, 2, 3, 2, 2 ,4, 5]\n",
    "\n",
    "x.insert(4, 9)\n",
    "print(x)"
   ]
  },
  {
   "cell_type": "code",
   "execution_count": 66,
   "id": "mexican-malawi",
   "metadata": {
    "scrolled": true
   },
   "outputs": [
    {
     "name": "stdout",
     "output_type": "stream",
     "text": [
      "Help on built-in function sort:\n",
      "\n",
      "sort(*, key=None, reverse=False) method of builtins.list instance\n",
      "    Sort the list in ascending order and return None.\n",
      "    \n",
      "    The sort is in-place (i.e. the list itself is modified) and stable (i.e. the\n",
      "    order of two equal elements is maintained).\n",
      "    \n",
      "    If a key function is given, apply it once to each list item and sort them,\n",
      "    ascending or descending, according to their function values.\n",
      "    \n",
      "    The reverse flag can be set to sort in descending order.\n",
      "\n"
     ]
    }
   ],
   "source": [
    "\n",
    "help(x.sort)"
   ]
  },
  {
   "cell_type": "code",
   "execution_count": 12,
   "id": "e0e90130-6c9b-4608-a410-1e9549aabc8a",
   "metadata": {},
   "outputs": [
    {
     "name": "stdout",
     "output_type": "stream",
     "text": [
      "sorted:   [1, 2, 2, 2, 3, 4, 5, 9]\n"
     ]
    }
   ],
   "source": [
    "x.sort()\n",
    "print(\"sorted:  \", x)"
   ]
  },
  {
   "cell_type": "code",
   "execution_count": 14,
   "id": "4ba8c0c7-cefe-4bf3-9424-8cb726b74b0c",
   "metadata": {},
   "outputs": [
    {
     "name": "stdout",
     "output_type": "stream",
     "text": [
      "[9, 5, 4, 3, 2, 2, 2, 1]\n"
     ]
    }
   ],
   "source": [
    "x.sort(reverse=True)\n",
    "print(x)"
   ]
  },
  {
   "cell_type": "code",
   "execution_count": 13,
   "id": "2a12a348-c184-4bf8-af38-e48a62bd7960",
   "metadata": {},
   "outputs": [
    {
     "data": {
      "text/plain": [
       "3"
      ]
     },
     "execution_count": 13,
     "metadata": {},
     "output_type": "execute_result"
    }
   ],
   "source": [
    "x.count(2)"
   ]
  },
  {
   "cell_type": "code",
   "execution_count": 21,
   "id": "bc904aff-8431-4ebf-998d-8926a4379899",
   "metadata": {},
   "outputs": [
    {
     "data": {
      "text/plain": [
       "'car'"
      ]
     },
     "execution_count": 21,
     "metadata": {},
     "output_type": "execute_result"
    }
   ],
   "source": [
    "x = \"car\"\n",
    "x.casefold()"
   ]
  },
  {
   "cell_type": "markdown",
   "id": "referenced-statement",
   "metadata": {},
   "source": [
    "### 4. Arithmetic and Logical (Boolean) Operators"
   ]
  },
  {
   "cell_type": "code",
   "execution_count": null,
   "id": "temporal-chest",
   "metadata": {},
   "outputs": [],
   "source": [
    "var_1 = True\n",
    "var_2 = False\n",
    "var_1 =var_1* var_2\n",
    "var_2 =var_1 ** var_2\n",
    "print(bool(var_1))\n",
    "print(bool(var_2))"
   ]
  },
  {
   "cell_type": "markdown",
   "id": "finished-destiny",
   "metadata": {},
   "source": [
    "### 5. User input ( the `input()` function)"
   ]
  },
  {
   "cell_type": "code",
   "execution_count": 3,
   "id": "distinct-preliminary",
   "metadata": {
    "scrolled": true
   },
   "outputs": [
    {
     "name": "stdin",
     "output_type": "stream",
     "text": [
      "Enter number:  5\n",
      "Enter name:  loyde\n"
     ]
    },
    {
     "name": "stdout",
     "output_type": "stream",
     "text": [
      "my name is loyde\n"
     ]
    }
   ],
   "source": [
    "number = input(\"Enter number: \")\n",
    "name = input(\"Enter name: \")\n",
    "\n",
    "print(\"my name is\" ,name )\n"
   ]
  }
 ],
 "metadata": {
  "kernelspec": {
   "display_name": "Python [conda env:base] *",
   "language": "python",
   "name": "conda-base-py"
  },
  "language_info": {
   "codemirror_mode": {
    "name": "ipython",
    "version": 3
   },
   "file_extension": ".py",
   "mimetype": "text/x-python",
   "name": "python",
   "nbconvert_exporter": "python",
   "pygments_lexer": "ipython3",
   "version": "3.13.5"
  }
 },
 "nbformat": 4,
 "nbformat_minor": 5
}
