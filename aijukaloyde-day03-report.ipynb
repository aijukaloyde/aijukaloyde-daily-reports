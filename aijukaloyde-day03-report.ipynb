{
 "cells": [
  {
   "cell_type": "markdown",
   "id": "above-northern",
   "metadata": {},
   "source": [
    "## Strings and files"
   ]
  },
  {
   "cell_type": "code",
   "execution_count": 2,
   "id": "proprietary-lawsuit",
   "metadata": {},
   "outputs": [
    {
     "name": "stdout",
     "output_type": "stream",
     "text": [
      "Will you be at the meeting tonight?\n"
     ]
    }
   ],
   "source": [
    "string_1 = \"Will you be at the meeting tonight?\"\n",
    "string_2 = '\"Yes,\" he replies.'\n",
    "print(string_1)"
   ]
  },
  {
   "cell_type": "code",
   "execution_count": 3,
   "id": "square-chick",
   "metadata": {},
   "outputs": [
    {
     "name": "stdout",
     "output_type": "stream",
     "text": [
      "\"Yes,\" he replies.\n"
     ]
    }
   ],
   "source": [
    "print(string_2)"
   ]
  },
  {
   "cell_type": "markdown",
   "id": "lyric-georgia",
   "metadata": {},
   "source": [
    "## Indexing"
   ]
  },
  {
   "cell_type": "code",
   "execution_count": 5,
   "id": "greater-willow",
   "metadata": {},
   "outputs": [
    {
     "data": {
      "text/plain": [
       "'W'"
      ]
     },
     "execution_count": 5,
     "metadata": {},
     "output_type": "execute_result"
    }
   ],
   "source": [
    "string_1[0]"
   ]
  },
  {
   "cell_type": "code",
   "execution_count": 7,
   "id": "indonesian-clothing",
   "metadata": {},
   "outputs": [
    {
     "data": {
      "text/plain": [
       "'l'"
      ]
     },
     "execution_count": 7,
     "metadata": {},
     "output_type": "execute_result"
    }
   ],
   "source": [
    "string_1[3]"
   ]
  },
  {
   "cell_type": "code",
   "execution_count": 9,
   "id": "arbitrary-rocket",
   "metadata": {},
   "outputs": [
    {
     "name": "stdout",
     "output_type": "stream",
     "text": [
      "Will you be at the meeting tonight?\n",
      "The second character of my string is l\n"
     ]
    }
   ],
   "source": [
    "print(string_1)\n",
    "print(\"The second character of my string is\", string_1[3])"
   ]
  },
  {
   "cell_type": "code",
   "execution_count": 13,
   "id": "american-civilization",
   "metadata": {},
   "outputs": [
    {
     "name": "stdout",
     "output_type": "stream",
     "text": [
      "Will you be at the meeting tonight?\n",
      "The last character of my string is:  ?\n"
     ]
    }
   ],
   "source": [
    "print(string_1)\n",
    "print(\"The last character of my string is: \", string_1[-1])"
   ]
  },
  {
   "cell_type": "markdown",
   "id": "derived-winter",
   "metadata": {},
   "source": [
    "## Slicing"
   ]
  },
  {
   "cell_type": "raw",
   "id": "experienced-denial",
   "metadata": {},
   "source": [
    "     string[start:stop:step]"
   ]
  },
  {
   "cell_type": "code",
   "execution_count": 43,
   "id": "opened-martial",
   "metadata": {},
   "outputs": [
    {
     "name": "stdout",
     "output_type": "stream",
     "text": [
      "Will you be at the meeting tonight?\n"
     ]
    },
    {
     "data": {
      "text/plain": [
       "'l o'"
      ]
     },
     "execution_count": 43,
     "metadata": {},
     "output_type": "execute_result"
    }
   ],
   "source": [
    "print(string_1)\n",
    "string_1[2:8:2]"
   ]
  },
  {
   "cell_type": "code",
   "execution_count": 18,
   "id": "weighted-match",
   "metadata": {},
   "outputs": [
    {
     "name": "stdout",
     "output_type": "stream",
     "text": [
      "Will you be at the meeting tonight?\n"
     ]
    },
    {
     "data": {
      "text/plain": [
       "'ll you'"
      ]
     },
     "execution_count": 18,
     "metadata": {},
     "output_type": "execute_result"
    }
   ],
   "source": [
    "print(string_1)\n",
    "string_1[2:8:]"
   ]
  },
  {
   "cell_type": "code",
   "execution_count": 19,
   "id": "arctic-tourism",
   "metadata": {},
   "outputs": [
    {
     "data": {
      "text/plain": [
       "'Will you be at the meeting tonight?'"
      ]
     },
     "execution_count": 19,
     "metadata": {},
     "output_type": "execute_result"
    }
   ],
   "source": [
    "string_1[::]"
   ]
  },
  {
   "cell_type": "code",
   "execution_count": 20,
   "id": "canadian-plain",
   "metadata": {},
   "outputs": [
    {
     "data": {
      "text/plain": [
       "'Wlobat entit'"
      ]
     },
     "execution_count": 20,
     "metadata": {},
     "output_type": "execute_result"
    }
   ],
   "source": [
    "string_1[::3]"
   ]
  },
  {
   "cell_type": "code",
   "execution_count": 21,
   "id": "substantial-disposal",
   "metadata": {},
   "outputs": [
    {
     "data": {
      "text/plain": [
       "'Wi'"
      ]
     },
     "execution_count": 21,
     "metadata": {},
     "output_type": "execute_result"
    }
   ],
   "source": [
    "string_1[:2]"
   ]
  },
  {
   "cell_type": "code",
   "execution_count": 22,
   "id": "secondary-interest",
   "metadata": {},
   "outputs": [
    {
     "data": {
      "text/plain": [
       "'Will yo'"
      ]
     },
     "execution_count": 22,
     "metadata": {},
     "output_type": "execute_result"
    }
   ],
   "source": [
    "string_1[:7:]"
   ]
  },
  {
   "cell_type": "code",
   "execution_count": 23,
   "id": "above-deadline",
   "metadata": {},
   "outputs": [
    {
     "data": {
      "text/plain": [
       "'ll you be at the meeting tonight'"
      ]
     },
     "execution_count": 23,
     "metadata": {},
     "output_type": "execute_result"
    }
   ],
   "source": [
    "string_1[2:-1]"
   ]
  },
  {
   "cell_type": "code",
   "execution_count": 24,
   "id": "interpreted-publisher",
   "metadata": {},
   "outputs": [
    {
     "data": {
      "text/plain": [
       "35"
      ]
     },
     "execution_count": 24,
     "metadata": {},
     "output_type": "execute_result"
    }
   ],
   "source": [
    "len(string_1)"
   ]
  },
  {
   "cell_type": "code",
   "execution_count": 26,
   "id": "level-climb",
   "metadata": {},
   "outputs": [
    {
     "data": {
      "text/plain": [
       "18"
      ]
     },
     "execution_count": 26,
     "metadata": {},
     "output_type": "execute_result"
    }
   ],
   "source": [
    "len(string_2)"
   ]
  },
  {
   "cell_type": "markdown",
   "id": "equipped-pricing",
   "metadata": {},
   "source": [
    "## Concatenation"
   ]
  },
  {
   "cell_type": "code",
   "execution_count": 28,
   "id": "complicated-advance",
   "metadata": {},
   "outputs": [
    {
     "name": "stdout",
     "output_type": "stream",
     "text": [
      "Hello, World\n",
      "WorldHello, \n"
     ]
    }
   ],
   "source": [
    "my_var_1 = \"Hello, \"\n",
    "my_var_2 = \"World\"\n",
    "concat = my_var_1 + my_var_2 \n",
    "concat_1 = my_var_2 + my_var_1\n",
    "print(concat)\n",
    "print(concat_1)"
   ]
  },
  {
   "cell_type": "code",
   "execution_count": 31,
   "id": "korean-arabic",
   "metadata": {},
   "outputs": [
    {
     "name": "stdout",
     "output_type": "stream",
     "text": [
      "WorldWorld\n"
     ]
    }
   ],
   "source": [
    "print(2*my_var_2)"
   ]
  },
  {
   "cell_type": "code",
   "execution_count": null,
   "id": "smaller-cathedral",
   "metadata": {},
   "outputs": [],
   "source": [
    "print(2*my_var_2)"
   ]
  },
  {
   "cell_type": "code",
   "execution_count": 44,
   "id": "aware-blade",
   "metadata": {},
   "outputs": [
    {
     "name": "stdout",
     "output_type": "stream",
     "text": [
      "ll\n"
     ]
    },
    {
     "data": {
      "text/plain": [
       "0"
      ]
     },
     "execution_count": 44,
     "metadata": {},
     "output_type": "execute_result"
    }
   ],
   "source": [
    "my_var_1 = \"Hello, \"\n",
    "sub = my_var_1[2:4:1]\n",
    "print(sub)\n",
    "my_var_1.find(sub[2:4])"
   ]
  },
  {
   "cell_type": "code",
   "execution_count": 64,
   "id": "unavailable-harvest",
   "metadata": {},
   "outputs": [
    {
     "data": {
      "text/plain": [
       "2"
      ]
     },
     "execution_count": 64,
     "metadata": {},
     "output_type": "execute_result"
    }
   ],
   "source": [
    "my_var_1 = \"Hello\"\n",
    "my_var_1.count(\"l\")"
   ]
  },
  {
   "cell_type": "code",
   "execution_count": 62,
   "id": "directed-variable",
   "metadata": {},
   "outputs": [
    {
     "data": {
      "text/plain": [
       "'hello, '"
      ]
     },
     "execution_count": 62,
     "metadata": {},
     "output_type": "execute_result"
    }
   ],
   "source": [
    "my_var_1.casefold()"
   ]
  },
  {
   "cell_type": "code",
   "execution_count": 71,
   "id": "restricted-pride",
   "metadata": {},
   "outputs": [],
   "source": [
    "my_var_1.center?\n",
    " "
   ]
  },
  {
   "cell_type": "code",
   "execution_count": 67,
   "id": "current-return",
   "metadata": {},
   "outputs": [
    {
     "data": {
      "text/plain": [
       "'Helly'"
      ]
     },
     "execution_count": 67,
     "metadata": {},
     "output_type": "execute_result"
    }
   ],
   "source": [
    "my_var_1 = \"Hello\"\n",
    "my_var_1.replace(\"o\", \"y\")"
   ]
  },
  {
   "cell_type": "code",
   "execution_count": 69,
   "id": "collected-chuck",
   "metadata": {},
   "outputs": [
    {
     "data": {
      "text/plain": [
       "['He', '', 'o']"
      ]
     },
     "execution_count": 69,
     "metadata": {},
     "output_type": "execute_result"
    }
   ],
   "source": [
    "my_var_1 = \"Hello\"\n",
    "my_var_1.split(\"l\")"
   ]
  },
  {
   "cell_type": "code",
   "execution_count": 1,
   "id": "conceptual-biology",
   "metadata": {},
   "outputs": [
    {
     "name": "stdout",
     "output_type": "stream",
     "text": [
      "Day03.ipynb  Documents\texpo.txt  Pictures  Templates\r\n",
      "Desktop      Downloads\tMusic\t  Public    Videos\r\n"
     ]
    }
   ],
   "source": [
    "!dir"
   ]
  },
  {
   "cell_type": "code",
   "execution_count": null,
   "id": "north-default",
   "metadata": {},
   "outputs": [],
   "source": [
    "# %load testfile.txt\n",
    "Hello\n",
    "aims class\n",
    "Rwanda 2025\n",
    "this is really cool"
   ]
  },
  {
   "cell_type": "code",
   "execution_count": 1,
   "id": "apart-oxide",
   "metadata": {},
   "outputs": [
    {
     "data": {
      "text/plain": [
       "_io.TextIOWrapper"
      ]
     },
     "execution_count": 1,
     "metadata": {},
     "output_type": "execute_result"
    }
   ],
   "source": [
    "f = open('testfile.txt', 'r')\n",
    "type(f)"
   ]
  },
  {
   "cell_type": "code",
   "execution_count": 5,
   "id": "municipal-colombia",
   "metadata": {},
   "outputs": [
    {
     "data": {
      "text/plain": [
       "['Hello\\n', 'aims class\\n', 'Rwanda 2025\\n', 'this is really cool']"
      ]
     },
     "execution_count": 5,
     "metadata": {},
     "output_type": "execute_result"
    }
   ],
   "source": [
    "f.readlines()"
   ]
  },
  {
   "cell_type": "code",
   "execution_count": 6,
   "id": "danish-huntington",
   "metadata": {},
   "outputs": [
    {
     "data": {
      "text/plain": [
       "''"
      ]
     },
     "execution_count": 6,
     "metadata": {},
     "output_type": "execute_result"
    }
   ],
   "source": [
    "f.read()"
   ]
  },
  {
   "cell_type": "code",
   "execution_count": 7,
   "id": "controlling-bulgarian",
   "metadata": {},
   "outputs": [
    {
     "data": {
      "text/plain": [
       "<_io.TextIOWrapper name='testfile.txt' mode='r' encoding='UTF-8'>"
      ]
     },
     "execution_count": 7,
     "metadata": {},
     "output_type": "execute_result"
    }
   ],
   "source": [
    "f"
   ]
  },
  {
   "cell_type": "code",
   "execution_count": 8,
   "id": "manufactured-production",
   "metadata": {},
   "outputs": [
    {
     "data": {
      "text/plain": [
       "''"
      ]
     },
     "execution_count": 8,
     "metadata": {},
     "output_type": "execute_result"
    }
   ],
   "source": [
    "f.read()"
   ]
  },
  {
   "cell_type": "code",
   "execution_count": 12,
   "id": "possible-senegal",
   "metadata": {},
   "outputs": [
    {
     "data": {
      "text/plain": [
       "<function TextIOWrapper.close()>"
      ]
     },
     "execution_count": 12,
     "metadata": {},
     "output_type": "execute_result"
    }
   ],
   "source": [
    "f.close"
   ]
  },
  {
   "cell_type": "code",
   "execution_count": 30,
   "id": "anticipated-mineral",
   "metadata": {},
   "outputs": [],
   "source": [
    "to_write_to_file = open('testfile.txt', 'w')\n",
    "to_write_to_file.write(\"This is Thursday Day03\")\n",
    "to_write_to_file.close()"
   ]
  },
  {
   "cell_type": "code",
   "execution_count": 28,
   "id": "relative-royalty",
   "metadata": {},
   "outputs": [],
   "source": [
    "to_write = open('outfile.txt', 'w')\n",
    "to_write.write(\"This is Thursday Day03\")\n",
    "to_write.close()"
   ]
  },
  {
   "cell_type": "code",
   "execution_count": 29,
   "id": "looking-advocacy",
   "metadata": {},
   "outputs": [],
   "source": [
    "# %load outfile.txt\n"
   ]
  },
  {
   "cell_type": "code",
   "execution_count": 22,
   "id": "brutal-burning",
   "metadata": {},
   "outputs": [
    {
     "data": {
      "text/plain": [
       "_io.TextIOWrapper"
      ]
     },
     "execution_count": 22,
     "metadata": {},
     "output_type": "execute_result"
    }
   ],
   "source": [
    "to_write = open('outfile.txt', 'r')\n",
    "type(to_write)"
   ]
  },
  {
   "cell_type": "code",
   "execution_count": 23,
   "id": "active-access",
   "metadata": {},
   "outputs": [
    {
     "data": {
      "text/plain": [
       "[]"
      ]
     },
     "execution_count": 23,
     "metadata": {},
     "output_type": "execute_result"
    }
   ],
   "source": [
    "to_write.readlines()"
   ]
  },
  {
   "cell_type": "code",
   "execution_count": null,
   "id": "unsigned-operation",
   "metadata": {},
   "outputs": [],
   "source": []
  }
 ],
 "metadata": {
  "kernelspec": {
   "display_name": "Python 3",
   "language": "python",
   "name": "python3"
  },
  "language_info": {
   "codemirror_mode": {
    "name": "ipython",
    "version": 3
   },
   "file_extension": ".py",
   "mimetype": "text/x-python",
   "name": "python",
   "nbconvert_exporter": "python",
   "pygments_lexer": "ipython3",
   "version": "3.9.2"
  }
 },
 "nbformat": 4,
 "nbformat_minor": 5
}
